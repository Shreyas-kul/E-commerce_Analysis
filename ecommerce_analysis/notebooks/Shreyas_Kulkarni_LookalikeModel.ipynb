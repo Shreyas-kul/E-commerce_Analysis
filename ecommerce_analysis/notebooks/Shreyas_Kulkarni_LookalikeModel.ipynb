{
 "cells": [
  {
   "cell_type": "code",
   "execution_count": 6,
   "metadata": {},
   "outputs": [
    {
     "name": "stdout",
     "output_type": "stream",
     "text": [
      "Collecting scikit-learn\n",
      "  Using cached scikit_learn-1.6.1-cp313-cp313-macosx_12_0_arm64.whl.metadata (31 kB)\n",
      "Requirement already satisfied: numpy>=1.19.5 in /Users/shreyas/Desktop/untitled folder/.venv/lib/python3.13/site-packages (from scikit-learn) (2.2.2)\n",
      "Collecting scipy>=1.6.0 (from scikit-learn)\n",
      "  Using cached scipy-1.15.1-cp313-cp313-macosx_14_0_arm64.whl.metadata (61 kB)\n",
      "Collecting joblib>=1.2.0 (from scikit-learn)\n",
      "  Using cached joblib-1.4.2-py3-none-any.whl.metadata (5.4 kB)\n",
      "Collecting threadpoolctl>=3.1.0 (from scikit-learn)\n",
      "  Using cached threadpoolctl-3.5.0-py3-none-any.whl.metadata (13 kB)\n",
      "Using cached scikit_learn-1.6.1-cp313-cp313-macosx_12_0_arm64.whl (11.1 MB)\n",
      "Using cached joblib-1.4.2-py3-none-any.whl (301 kB)\n",
      "Using cached scipy-1.15.1-cp313-cp313-macosx_14_0_arm64.whl (24.8 MB)\n",
      "Using cached threadpoolctl-3.5.0-py3-none-any.whl (18 kB)\n",
      "Installing collected packages: threadpoolctl, scipy, joblib, scikit-learn\n",
      "Successfully installed joblib-1.4.2 scikit-learn-1.6.1 scipy-1.15.1 threadpoolctl-3.5.0\n",
      "Note: you may need to restart the kernel to use updated packages.\n"
     ]
    }
   ],
   "source": [
    "pip install scikit-learn\n"
   ]
  },
  {
   "cell_type": "code",
   "execution_count": 7,
   "metadata": {},
   "outputs": [],
   "source": [
    "import pandas as pd\n",
    "from sklearn.metrics.pairwise import cosine_similarity\n",
    "from sklearn.preprocessing import StandardScaler"
   ]
  },
  {
   "cell_type": "code",
   "execution_count": 8,
   "metadata": {},
   "outputs": [],
   "source": [
    "customers = pd.read_csv('/Users/shreyas/Desktop/untitled folder/ecommerce_analysis/data/Customers.csv')\n",
    "products = pd.read_csv('/Users/shreyas/Desktop/untitled folder/ecommerce_analysis/data/Products.csv')\n",
    "transactions = pd.read_csv('/Users/shreyas/Desktop/untitled folder/ecommerce_analysis/data/Transactions.csv')"
   ]
  },
  {
   "cell_type": "code",
   "execution_count": 9,
   "metadata": {},
   "outputs": [],
   "source": [
    "customers['SignupDate'] = pd.to_datetime(customers['SignupDate'])\n",
    "transactions['TransactionDate'] = pd.to_datetime(transactions['TransactionDate'])"
   ]
  },
  {
   "cell_type": "code",
   "execution_count": 10,
   "metadata": {},
   "outputs": [],
   "source": [
    "merged_data = transactions.merge(customers, on='CustomerID', how='inner').merge(products, on='ProductID', how='inner')\n"
   ]
  },
  {
   "cell_type": "code",
   "execution_count": 11,
   "metadata": {},
   "outputs": [],
   "source": [
    "customer_profiles = merged_data.groupby('CustomerID').agg(\n",
    "    total_purchases=('Quantity', 'sum'),\n",
    "    total_spending=('TotalValue', 'sum'),\n",
    "    avg_transaction_value=('TotalValue', 'mean'),\n",
    "    preferred_category=('Category', lambda x: x.mode()[0]), \n",
    "    region=('Region', 'first') \n",
    ").reset_index()"
   ]
  },
  {
   "cell_type": "code",
   "execution_count": 12,
   "metadata": {},
   "outputs": [],
   "source": [
    "customer_profiles = pd.get_dummies(customer_profiles, columns=['preferred_category', 'region'], drop_first=True)"
   ]
  },
  {
   "cell_type": "code",
   "execution_count": 13,
   "metadata": {},
   "outputs": [],
   "source": [
    "scaler = StandardScaler()\n",
    "numerical_features = ['total_purchases', 'total_spending', 'avg_transaction_value']\n",
    "customer_profiles[numerical_features] = scaler.fit_transform(customer_profiles[numerical_features])"
   ]
  },
  {
   "cell_type": "code",
   "execution_count": 15,
   "metadata": {},
   "outputs": [],
   "source": [
    "customer_ids = customer_profiles['CustomerID']\n",
    "feature_matrix = customer_profiles.drop(columns=['CustomerID']).values\n",
    "similarity_matrix = cosine_similarity(feature_matrix)"
   ]
  },
  {
   "cell_type": "code",
   "execution_count": 16,
   "metadata": {},
   "outputs": [],
   "source": [
    "lookalike_results = []"
   ]
  },
  {
   "cell_type": "code",
   "execution_count": 17,
   "metadata": {},
   "outputs": [],
   "source": [
    "for i, customer_id in enumerate(customer_ids[:20]):  # Limit to first 20 customers\n",
    "    # Get similarity scores for the current customer\n",
    "    similarities = similarity_matrix[i]\n",
    "    # Exclude the current customer and sort by similarity score\n",
    "    similar_customers = sorted(\n",
    "        [(customer_ids[j], score) for j, score in enumerate(similarities) if j != i],\n",
    "        key=lambda x: x[1],\n",
    "        reverse=True\n",
    "    )\n",
    "    # Select the top 3 similar customers\n",
    "    top_3 = similar_customers[:3]\n",
    "    lookalike_results.append({\n",
    "        'CustomerID': customer_id,\n",
    "        'Lookalike1': top_3[0][0], 'Score1': round(top_3[0][1], 2),\n",
    "        'Lookalike2': top_3[1][0], 'Score2': round(top_3[1][1], 2),\n",
    "        'Lookalike3': top_3[2][0], 'Score3': round(top_3[2][1], 2)\n",
    "    })"
   ]
  },
  {
   "cell_type": "code",
   "execution_count": 18,
   "metadata": {},
   "outputs": [],
   "source": [
    "lookalike_df = pd.DataFrame(lookalike_results)"
   ]
  },
  {
   "cell_type": "code",
   "execution_count": 21,
   "metadata": {},
   "outputs": [],
   "source": [
    "lookalike_df.to_csv('/Users/shreyas/Desktop/untitled folder/ecommerce_analysis/outputs/Lookalike.csv', index=False)"
   ]
  },
  {
   "cell_type": "code",
   "execution_count": 20,
   "metadata": {},
   "outputs": [
    {
     "name": "stdout",
     "output_type": "stream",
     "text": [
      "   CustomerID Lookalike1  Score1 Lookalike2  Score2 Lookalike3  Score3\n",
      "0       C0001      C0190    0.94      C0048    0.94      C0181    0.90\n",
      "1       C0002      C0088    0.99      C0077    0.90      C0083    0.89\n",
      "2       C0003      C0052    0.90      C0152    0.87      C0195    0.84\n",
      "3       C0004      C0165    0.98      C0169    0.96      C0175    0.89\n",
      "4       C0005      C0146    0.98      C0186    0.97      C0130    0.89\n",
      "5       C0006      C0168    0.98      C0187    0.95      C0171    0.94\n",
      "6       C0007      C0140    0.97      C0115    0.92      C0020    0.86\n",
      "7       C0008      C0160    0.78      C0024    0.75      C0194    0.75\n",
      "8       C0009      C0198    0.98      C0103    0.94      C0062    0.93\n",
      "9       C0010      C0111    0.95      C0062    0.92      C0103    0.89\n",
      "10      C0011      C0126    0.93      C0137    0.88      C0187    0.81\n",
      "11      C0012      C0104    0.97      C0113    0.93      C0195    0.93\n",
      "12      C0013      C0099    0.98      C0108    0.92      C0143    0.88\n",
      "13      C0014      C0060    0.98      C0128    0.95      C0097    0.94\n",
      "14      C0015      C0131    0.98      C0036    0.97      C0058    0.92\n",
      "15      C0016      C0183    0.98      C0067    0.87      C0042    0.85\n",
      "16      C0017      C0075    0.96      C0041    0.83      C0057    0.83\n",
      "17      C0018      C0046    0.91      C0122    0.85      C0059    0.83\n",
      "18      C0019      C0121    0.97      C0119    0.89      C0172    0.88\n",
      "19      C0020      C0140    0.91      C0007    0.86      C0078    0.85\n"
     ]
    }
   ],
   "source": [
    "print(lookalike_df)"
   ]
  },
  {
   "cell_type": "code",
   "execution_count": null,
   "metadata": {},
   "outputs": [],
   "source": []
  }
 ],
 "metadata": {
  "kernelspec": {
   "display_name": ".venv",
   "language": "python",
   "name": "python3"
  },
  "language_info": {
   "codemirror_mode": {
    "name": "ipython",
    "version": 3
   },
   "file_extension": ".py",
   "mimetype": "text/x-python",
   "name": "python",
   "nbconvert_exporter": "python",
   "pygments_lexer": "ipython3",
   "version": "3.13.1"
  }
 },
 "nbformat": 4,
 "nbformat_minor": 2
}
